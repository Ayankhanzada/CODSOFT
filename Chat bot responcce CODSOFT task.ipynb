{
 "cells": [
  {
   "cell_type": "markdown",
   "id": "64bd0719",
   "metadata": {},
   "source": [
    "# Simple rule-based chatbot"
   ]
  },
  {
   "cell_type": "code",
   "execution_count": 3,
   "id": "6bc40bc4",
   "metadata": {},
   "outputs": [
    {
     "name": "stdout",
     "output_type": "stream",
     "text": [
      "You: hi\n",
      "Chatbot: Hello! How can I help you today?\n",
      "You: how are you\n",
      "Chatbot: I'm just a chatbot, but I'm here to assist you.\n",
      "You: who are you\n",
      "Chatbot: I am a simple rule-based chatbot.\n",
      "You: help\n",
      "Chatbot: I can respond to basic greetings and questions. Just ask!\n",
      "You: what's the weather like today\n",
      "Chatbot: I can't provide real-time weather information. Try a weather website or app.\n",
      "You: how old are you\n",
      "Chatbot: I don't have an age since I'm just a computer program.\n",
      "You: bye\n",
      "Chatbot: Goodbye! Have a great day!\n",
      "You: exit\n",
      "Chatbot: Goodbye!\n"
     ]
    }
   ],
   "source": [
    "def chatbot_response(user_input):\n",
    "    user_input = user_input.lower()  \n",
    "\n",
    "    # Convert user input to lowercase for case insensitivity\n",
    "    \n",
    "    if \"hello\" in user_input or \"hi\" in user_input:\n",
    "        return \"Hello! How can I help you today?\"\n",
    "\n",
    "    elif \"how are you\" in user_input:\n",
    "        return \"I'm just a chatbot, but I'm here to assist you.\"\n",
    "\n",
    "    elif \"what is your name\" in user_input or \"who are you\" in user_input:\n",
    "        return \"I am a simple rule-based chatbot.\"\n",
    "\n",
    "    elif \"help\" in user_input:\n",
    "        return \"I can respond to basic greetings and questions. Just ask!\"\n",
    "\n",
    "    elif \"what's the weather like today\" in user_input:\n",
    "        return \"I can't provide real-time weather information. Try a weather website or app.\"\n",
    "\n",
    "    elif \"tell me a joke\" in user_input:\n",
    "        return \"Why don't scientists trust atoms? Because they make up everything!\"\n",
    "\n",
    "\n",
    "    elif \"how old are you\" in user_input:\n",
    "        return \"I don't have an age since I'm just a computer program.\"\n",
    "    \n",
    "    elif \"bye\" in user_input or \"goodbye\" in user_input:\n",
    "        return \"Goodbye! Have a great day!\"\n",
    "\n",
    "    else:\n",
    "        return \"I'm sorry, I don't understand. You can ask for help if you're unsure.\"\n",
    "\n",
    "# Main loop\n",
    "while True:\n",
    "    user_input = input(\"You: \")\n",
    "    if user_input.lower() == 'exit':\n",
    "        print(\"Chatbot: Goodbye!\")\n",
    "        break\n",
    "    response = chatbot_response(user_input)\n",
    "    print(\"Chatbot: \" + response)\n"
   ]
  },
  {
   "cell_type": "markdown",
   "id": "c657ecd8",
   "metadata": {},
   "source": [
    "# CODSOFT TASK FINISH"
   ]
  },
  {
   "cell_type": "code",
   "execution_count": null,
   "id": "08926007",
   "metadata": {},
   "outputs": [],
   "source": []
  }
 ],
 "metadata": {
  "kernelspec": {
   "display_name": "Python 3 (ipykernel)",
   "language": "python",
   "name": "python3"
  },
  "language_info": {
   "codemirror_mode": {
    "name": "ipython",
    "version": 3
   },
   "file_extension": ".py",
   "mimetype": "text/x-python",
   "name": "python",
   "nbconvert_exporter": "python",
   "pygments_lexer": "ipython3",
   "version": "3.11.4"
  }
 },
 "nbformat": 4,
 "nbformat_minor": 5
}
